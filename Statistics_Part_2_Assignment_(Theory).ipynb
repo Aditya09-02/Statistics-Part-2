{
  "nbformat": 4,
  "nbformat_minor": 0,
  "metadata": {
    "colab": {
      "provenance": []
    },
    "kernelspec": {
      "name": "python3",
      "display_name": "Python 3"
    },
    "language_info": {
      "name": "python"
    }
  },
  "cells": [
    {
      "cell_type": "markdown",
      "source": [
        "Q1. What is hypothesis testing in statistics?"
      ],
      "metadata": {
        "id": "WqtS4ptbo_Kh"
      }
    },
    {
      "cell_type": "markdown",
      "source": [
        "Ans. Hypothesis testing in statistics is a method used to make decisions or inferences about a population based on sample data. It involves testing an assumption (called the null hypothesis) against an alternative hypothesis using statistical evidence. If the data provides strong enough evidence, the null hypothesis is rejected in favor of the alternative."
      ],
      "metadata": {
        "id": "83qUrAszpJOv"
      }
    },
    {
      "cell_type": "markdown",
      "source": [
        "Q2.  What is the null hypothesis, and how does it differ from the alternative hypothesis ?"
      ],
      "metadata": {
        "id": "3P1b4-M8pMfO"
      }
    },
    {
      "cell_type": "markdown",
      "source": [
        "Ans. The null hypothesis (H₀) is a statement that there is no effect or no difference — it represents the status quo or default assumption.\n",
        "\n",
        "The alternative hypothesis (H₁ or Ha) is what you want to prove — it suggests there is an effect or difference.\n",
        "\n",
        "Difference:\n",
        "\n",
        "1. H₀ assumes no change or relationship.\n",
        "\n",
        "2. H₁ suggests there is a change or relationship."
      ],
      "metadata": {
        "id": "yOkZ5QyBpUVY"
      }
    },
    {
      "cell_type": "markdown",
      "source": [
        "Q3. What is the significance level in hypothesis testing, and why is it important ?"
      ],
      "metadata": {
        "id": "4Q9doyhLpdMA"
      }
    },
    {
      "cell_type": "markdown",
      "source": [
        "Ans. The significance level (α) is the probability of rejecting the null hypothesis when it is actually true — it's the risk of a false positive. Common values are 0.05 or 0.01.\n",
        "\n",
        "Why it's important:\n",
        "\n",
        "It sets the threshold for how strong the evidence must be to reject H₀, helping control the chances of making incorrect conclusions."
      ],
      "metadata": {
        "id": "dTxAsU3spkA4"
      }
    },
    {
      "cell_type": "markdown",
      "source": [
        "Q4. What does a P-value represent in hypothesis testing ?"
      ],
      "metadata": {
        "id": "c5JFKcl5poso"
      }
    },
    {
      "cell_type": "markdown",
      "source": [
        "Ans. The P-value is the probability of getting results as extreme as (or more extreme than) the observed data, assuming the null hypothesis is true."
      ],
      "metadata": {
        "id": "DmdcLzyUqAjY"
      }
    },
    {
      "cell_type": "markdown",
      "source": [
        "Q5.  How do you interpret the P-value in hypothesis testing ?"
      ],
      "metadata": {
        "id": "-Wg40Kh5qCSP"
      }
    },
    {
      "cell_type": "markdown",
      "source": [
        "Ans. Interpretation of P-value :\n",
        "\n",
        "1. P-value ≤ α: Reject the null hypothesis (significant result)\n",
        "\n",
        "2. P-value > α: Fail to reject the null hypothesis (not significant)"
      ],
      "metadata": {
        "id": "xIusqYNVqNfg"
      }
    },
    {
      "cell_type": "markdown",
      "source": [
        "Q6. What are Type 1 and Type 2 errors in hypothesis testing ?"
      ],
      "metadata": {
        "id": "pcGj2IXuqUj4"
      }
    },
    {
      "cell_type": "markdown",
      "source": [
        "Ans. Type 1 Error (False Positive): Rejecting the null hypothesis when it is actually true.\n",
        "\n",
        "1. Probability = α (significance level)\n",
        "\n",
        "Type 2 Error (False Negative): Failing to reject the null hypothesis when it is actually false.\n",
        "\n",
        "1. Probability = β"
      ],
      "metadata": {
        "id": "CseLhhk-r95z"
      }
    },
    {
      "cell_type": "markdown",
      "source": [
        "Q7. What is the difference between a one-tailed and a two-tailed test in hypothesis testing ?"
      ],
      "metadata": {
        "id": "N4EiAt3usGXj"
      }
    },
    {
      "cell_type": "markdown",
      "source": [
        "Ans. One-tailed test: Tests for an effect in one specific direction (e.g., greater than or less than).\n",
        "\n",
        "Two-tailed test: Tests for an effect in both directions (e.g., not equal to)."
      ],
      "metadata": {
        "id": "KZz8k6OysPY7"
      }
    },
    {
      "cell_type": "markdown",
      "source": [
        "Q8. What is the Z-test, and when is it used in hypothesis testing ?"
      ],
      "metadata": {
        "id": "nmsYmHk6saWy"
      }
    },
    {
      "cell_type": "markdown",
      "source": [
        "Ans.  A Z-test is a statistical test used to determine whether there is a significant difference between sample and population means (or between two sample means) when the population variance is known and the sample size is large (typically n ≥ 30)."
      ],
      "metadata": {
        "id": "APJpfrX6siIU"
      }
    },
    {
      "cell_type": "markdown",
      "source": [
        "Q9.  How do you calculate the Z-score, and what does it represent in hypothesis testing ?"
      ],
      "metadata": {
        "id": "i1I4Q8WnswVc"
      }
    },
    {
      "cell_type": "markdown",
      "source": [
        "Ans. The Z-score tells you how many standard deviations the sample mean is from the population mean — it helps determine how unusual the result is under the null hypothesis."
      ],
      "metadata": {
        "id": "CR6J0c_StkCd"
      }
    },
    {
      "cell_type": "markdown",
      "source": [
        "Q10. What is the T-distribution, and when should it be used instead of the normal distribution ?"
      ],
      "metadata": {
        "id": "-e-N_fibtok9"
      }
    },
    {
      "cell_type": "markdown",
      "source": [
        "Ans.  The T-distribution is a probability distribution used when estimating population parameters with small sample sizes (n < 30) and/or when the population standard deviation is unknown."
      ],
      "metadata": {
        "id": "_EWtHrKStvHk"
      }
    },
    {
      "cell_type": "markdown",
      "source": [
        "Q11. What is the difference between a Z-test and a T-test ?"
      ],
      "metadata": {
        "id": "mc0xdyawt99V"
      }
    },
    {
      "cell_type": "markdown",
      "source": [
        "Ans. Z-test is used when:\n",
        "\n",
        "1. Sample size is large (n ≥ 30)\n",
        "\n",
        "2. Population standard deviation (σ) is known\n",
        "\n",
        "T-test is used when:\n",
        "\n",
        "1. Sample size is small (n < 30)\n",
        "\n",
        "2. Population standard deviation (σ) is unknown"
      ],
      "metadata": {
        "id": "GcpQQpPUuYMd"
      }
    },
    {
      "cell_type": "markdown",
      "source": [
        "Q12. What is the T-test, and how is it used in hypothesis testing ?"
      ],
      "metadata": {
        "id": "TJHebwtwy0Vq"
      }
    },
    {
      "cell_type": "markdown",
      "source": [
        "Ans. It helps determine if there’s a significant difference between means (e.g., sample vs. population or two samples) under uncertainty."
      ],
      "metadata": {
        "id": "RwPLoEB0y7pz"
      }
    },
    {
      "cell_type": "markdown",
      "source": [
        "Q13.  What is the relationship between Z-test and T-test in hypothesis testing ?"
      ],
      "metadata": {
        "id": "JBlHA_EN5Csa"
      }
    },
    {
      "cell_type": "markdown",
      "source": [
        "Ans. Z-test and T-test both test hypotheses about means, but differ in conditions:\n",
        "\n",
        "1. Both compare sample data to a population or another sample.\n",
        "\n",
        "2. Z-test is used with large samples and known σ.\n",
        "\n",
        "3. T-test is used with small samples and unknown σ."
      ],
      "metadata": {
        "id": "neSVHgU85LgC"
      }
    },
    {
      "cell_type": "markdown",
      "source": [
        "Q14. What is a confidence interval, and how is it used to interpret statistical results ?"
      ],
      "metadata": {
        "id": "0F895tgD5X3q"
      }
    },
    {
      "cell_type": "markdown",
      "source": [
        "Ans. A confidence interval (CI) is a range of values that likely contains the true population parameter, based on sample data."
      ],
      "metadata": {
        "id": "QQvnWExS5aD6"
      }
    },
    {
      "cell_type": "markdown",
      "source": [
        "Q15. What is the margin of error, and how does it affect the confidence interval ?"
      ],
      "metadata": {
        "id": "nz44GnIQ5hgJ"
      }
    },
    {
      "cell_type": "markdown",
      "source": [
        "Ans. The margin of error is the amount added and subtracted from the sample estimate to create the confidence interval."
      ],
      "metadata": {
        "id": "lp3daW9m5pQR"
      }
    },
    {
      "cell_type": "markdown",
      "source": [
        "Q16. How is Bayes' Theorem used in statistics, and what is its significance ?"
      ],
      "metadata": {
        "id": "lqgTGpjI5q2K"
      }
    },
    {
      "cell_type": "markdown",
      "source": [
        "Ans. It combines prior knowledge with new data to calculate a revised (posterior) probability.\n",
        "\n",
        "Significance: It’s key in probabilistic reasoning, especially in fields like medical testing, machine learning, and decision-making under uncertainty.\n",
        "\n",
        "\n",
        "\n",
        "\n",
        "\n",
        "\n",
        "\n",
        "\n"
      ],
      "metadata": {
        "id": "AEILYY1e54ex"
      }
    },
    {
      "cell_type": "markdown",
      "source": [
        "Q17. What is the Chi-square distribution, and when is it used ?"
      ],
      "metadata": {
        "id": "sa4S077I587r"
      }
    },
    {
      "cell_type": "markdown",
      "source": [
        "Ans.  The Chi-square distribution is a statistical distribution used mainly for tests involving categorical data.\n",
        "\n",
        "In short:\n",
        "\n",
        "It’s used when testing relationships between variables or goodness of fit—commonly in:\n",
        "\n",
        "1. Chi-square test for independence (e.g., are two variables related?)\n",
        "\n",
        "2. Chi-square goodness-of-fit test (e.g., does data match an expected distribution?)"
      ],
      "metadata": {
        "id": "hn6AUifq6BDZ"
      }
    },
    {
      "cell_type": "markdown",
      "source": [
        "Q18. What is the Chi-square goodness of fit test, and how is it applied ?"
      ],
      "metadata": {
        "id": "jg2uJfeI6VBD"
      }
    },
    {
      "cell_type": "markdown",
      "source": [
        "Ans. The Chi-square goodness of fit test checks whether observed categorical data matches an expected distribution.\n",
        "\n",
        "How it's applied:\n",
        "\n",
        "1. State hypotheses:\n",
        "\n",
        "(A) H₀: Observed data fits the expected distribution.\n",
        "\n",
        "(B) H₁: Data does not fit expected distribution\n",
        "\n",
        "2. Calculate:\n",
        "\n",
        "χ\n",
        "2\n",
        " =∑\n",
        "E\n",
        "(O−E)\n",
        "2\n",
        "\n",
        "\n",
        "3. Compare χ² to critical value or use P-value\n",
        "\n",
        "4. Decision:\n",
        "\n",
        "(A) If P ≤ α → Reject H₀\n",
        "\n",
        "(B) If P > α → Fail to reject H₀\n"
      ],
      "metadata": {
        "id": "zlf9g0eu6cMD"
      }
    },
    {
      "cell_type": "markdown",
      "source": [
        "Q19. What is the F-distribution, and when is it used in hypothesis testing ?"
      ],
      "metadata": {
        "id": "uZEivJfG7JDd"
      }
    },
    {
      "cell_type": "markdown",
      "source": [
        "Ans. The F-distribution is a right-skewed probability distribution used to compare variances between two groups.\n",
        "\n",
        "Common uses:\n",
        "\n",
        "1. ANOVA (Analysis of Variance): To test if three or more group means are significantly different.\n",
        "\n",
        "2. F-test for equality of variances: To compare variability between two datasets."
      ],
      "metadata": {
        "id": "Zu_qUiPg7QzU"
      }
    },
    {
      "cell_type": "markdown",
      "source": [
        "Q20. What is an ANOVA test, and what are its assumptions ?"
      ],
      "metadata": {
        "id": "lYwJDmHt7Z-u"
      }
    },
    {
      "cell_type": "markdown",
      "source": [
        "Ans.  ANOVA (Analysis of Variance) is a test used to compare the means of three or more groups to see if at least one is significantly different.\n",
        "\n",
        "Key assumptions:\n",
        "\n",
        "1. Independence of observations.\n",
        "\n",
        "2. Normality within each group.\n",
        "\n",
        "3. Equal variances (homogeneity of variance) across groups."
      ],
      "metadata": {
        "id": "RVVkMW5e7cKk"
      }
    },
    {
      "cell_type": "markdown",
      "source": [
        "Q21.  What are the different types of ANOVA tests ?"
      ],
      "metadata": {
        "id": "E-CodFGm7roN"
      }
    },
    {
      "cell_type": "markdown",
      "source": [
        "Ans. There are three main types of ANOVA tests, each used in different situations:\n",
        "\n",
        "1. One-Way ANOVA:\n",
        "\n",
        "(A) Compares means of three or more groups based on one independent variable.\n",
        "\n",
        "(B) Example: Comparing test scores across different teaching methods.\n",
        "\n",
        "2. Two-Way ANOVA:\n",
        "\n",
        "(A) Tests the effect of two independent variables on a dependent variable.\n",
        "\n",
        "(B) Also checks for interaction between the variables.\n",
        "\n",
        "(C) Example: Examining how both diet type and exercise affect weight loss.\n",
        "\n",
        "\n",
        "3. Repeated Measures ANOVA:\n",
        "\n",
        "(A) Used when the same subjects are measured multiple times (within-subjects design).\n",
        "\n",
        "(B) Example: Measuring blood pressure at different time points after treatment."
      ],
      "metadata": {
        "id": "_CscK11U7xvN"
      }
    },
    {
      "cell_type": "markdown",
      "source": [
        "Q22. What is the F-test, and how does it relate to hypothesis testing ?"
      ],
      "metadata": {
        "id": "Wt94KfKj8UF1"
      }
    },
    {
      "cell_type": "markdown",
      "source": [
        "Ans. The F-test is a statistical test that compares two variances to determine if they are significantly different.\n",
        "\n",
        "Relation to hypothesis testing:\n",
        "\n",
        "1. H₀: The variances are equal.\n",
        "\n",
        "2. H₁: The variances are not equal.\n",
        "\n",
        "3. An F-statistic is calculated and compared to a critical value from the F-distribution.\n",
        "\n",
        "4. If the F-value is large (or P-value ≤ α), reject H₀.\n",
        "\n",
        "Used in:\n",
        "\n",
        "1. ANOVA\n",
        "\n",
        "2. Regression model comparison\n",
        "\n",
        "3. Testing equality of two variances"
      ],
      "metadata": {
        "id": "p-gEuZQz8cHe"
      }
    }
  ]
}